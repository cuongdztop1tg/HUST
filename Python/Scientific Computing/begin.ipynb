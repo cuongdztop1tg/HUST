{
 "cells": [
  {
   "cell_type": "code",
   "execution_count": 17,
   "metadata": {},
   "outputs": [
    {
     "name": "stdout",
     "output_type": "stream",
     "text": [
      "['((()))', '(()())', '(())()', '()(())', '()()()']\n"
     ]
    }
   ],
   "source": [
    "def generate_parentheses(n):\n",
    "    res = []\n",
    "\n",
    "    def backtrack(n, parentheses, open_count, close_count):\n",
    "        if open_count == n and close_count == n:\n",
    "            res.append(parentheses)\n",
    "            return\n",
    "        if open_count < n:\n",
    "            backtrack(n, parentheses + \"(\", open_count + 1, close_count)\n",
    "        if close_count < open_count:\n",
    "            backtrack(n, parentheses + \")\", open_count, close_count + 1)\n",
    "\n",
    "    backtrack(n, \"\", 0, 0)\n",
    "    return res\n",
    "\n",
    "\n",
    "n = int(input())\n",
    "print(generate_parentheses(n))"
   ]
  },
  {
   "cell_type": "code",
   "execution_count": null,
   "metadata": {},
   "outputs": [
    {
     "name": "stdout",
     "output_type": "stream",
     "text": [
      "The solutions are: 2.0 and 1.0\n"
     ]
    }
   ],
   "source": [
    "import math\n",
    "\n",
    "a = float(input())\n",
    "b = float(input())\n",
    "c = float(input())\n",
    "delta = b * b - 4 * a * c\n",
    "if a == 0:\n",
    "    print(\"The solution is:\", -c / b)\n",
    "else:\n",
    "    if delta < 0:\n",
    "        print(\"No solution\")\n",
    "    elif delta > 0:\n",
    "        x1 = (-b + math.sqrt(delta)) / (2 * a)\n",
    "        x2 = (-b - math.sqrt(delta)) / (2 * a)\n",
    "        print(\"The solutions are:\", x1, \"and\", x2)\n",
    "    else:\n",
    "        x = (-b) / (2 * a)\n",
    "        print(\"The solution is:\", x)"
   ]
  },
  {
   "cell_type": "code",
   "execution_count": 8,
   "metadata": {},
   "outputs": [
    {
     "name": "stdout",
     "output_type": "stream",
     "text": [
      "Unvalid day\n"
     ]
    }
   ],
   "source": [
    "day = int(input(\"Enter day:\"))\n",
    "match day:\n",
    "    case 2:\n",
    "        print(\"Monday\")\n",
    "    case 3:\n",
    "        print(\"Tuesday\")\n",
    "    case 4:\n",
    "        print(\"Wednesday\")\n",
    "    case 5:\n",
    "        print(\"Thursday\")\n",
    "    case 6:\n",
    "        print(\"Friday\")\n",
    "    case 7:\n",
    "        print(\"Saturday\")\n",
    "    case 8:\n",
    "        print(\"Sunday\")\n",
    "    case _:\n",
    "        print(\"Unvalid day\")"
   ]
  },
  {
   "cell_type": "code",
   "execution_count": 10,
   "metadata": {},
   "outputs": [
    {
     "name": "stdout",
     "output_type": "stream",
     "text": [
      "3.1415927300133055\n"
     ]
    }
   ],
   "source": [
    "import math\n",
    "\n",
    "sigma = 0\n",
    "k = 0\n",
    "while True:\n",
    "    sigma += (math.factorial(4 * k) * (1103 + 26390 * k)) / (\n",
    "        math.pow((math.factorial(k)), 4) * math.pow(396, 4 * k)\n",
    "    )\n",
    "    if sigma - int(sigma) < 1e-15:\n",
    "        break\n",
    "    k += 1\n",
    "one_over_pi = ((2 * math.sqrt(2)) / 9801) * sigma\n",
    "print(1 / one_over_pi)"
   ]
  },
  {
   "cell_type": "code",
   "execution_count": null,
   "metadata": {},
   "outputs": [
    {
     "name": "stdout",
     "output_type": "stream",
     "text": [
      "9 11 15\n"
     ]
    }
   ],
   "source": [
    "def prime(n):\n",
    "    if(n == 2): return True\n",
    "    for i in range(2, math.)"
   ]
  },
  {
   "cell_type": "code",
   "execution_count": 1,
   "metadata": {},
   "outputs": [
    {
     "name": "stdout",
     "output_type": "stream",
     "text": [
      "Collecting matplotlib\n",
      "  Downloading matplotlib-3.10.1-cp312-cp312-win_amd64.whl.metadata (11 kB)\n",
      "Collecting contourpy>=1.0.1 (from matplotlib)\n",
      "  Downloading contourpy-1.3.1-cp312-cp312-win_amd64.whl.metadata (5.4 kB)\n",
      "Collecting cycler>=0.10 (from matplotlib)\n",
      "  Downloading cycler-0.12.1-py3-none-any.whl.metadata (3.8 kB)\n",
      "Collecting fonttools>=4.22.0 (from matplotlib)\n",
      "  Downloading fonttools-4.56.0-cp312-cp312-win_amd64.whl.metadata (103 kB)\n",
      "Collecting kiwisolver>=1.3.1 (from matplotlib)\n",
      "  Downloading kiwisolver-1.4.8-cp312-cp312-win_amd64.whl.metadata (6.3 kB)\n",
      "Requirement already satisfied: numpy>=1.23 in c:\\users\\caocu\\appdata\\local\\programs\\python\\python312\\lib\\site-packages (from matplotlib) (2.1.3)\n",
      "Requirement already satisfied: packaging>=20.0 in c:\\users\\caocu\\appdata\\roaming\\python\\python312\\site-packages (from matplotlib) (24.1)\n",
      "Collecting pillow>=8 (from matplotlib)\n",
      "  Downloading pillow-11.1.0-cp312-cp312-win_amd64.whl.metadata (9.3 kB)\n",
      "Collecting pyparsing>=2.3.1 (from matplotlib)\n",
      "  Downloading pyparsing-3.2.1-py3-none-any.whl.metadata (5.0 kB)\n",
      "Requirement already satisfied: python-dateutil>=2.7 in c:\\users\\caocu\\appdata\\roaming\\python\\python312\\site-packages (from matplotlib) (2.9.0.post0)\n",
      "Requirement already satisfied: six>=1.5 in c:\\users\\caocu\\appdata\\roaming\\python\\python312\\site-packages (from python-dateutil>=2.7->matplotlib) (1.16.0)\n",
      "Downloading matplotlib-3.10.1-cp312-cp312-win_amd64.whl (8.1 MB)\n",
      "   ---------------------------------------- 0.0/8.1 MB ? eta -:--:--\n",
      "   ------ --------------------------------- 1.3/8.1 MB 11.3 MB/s eta 0:00:01\n",
      "   ---------------------------------------  7.9/8.1 MB 25.6 MB/s eta 0:00:01\n",
      "   ---------------------------------------- 8.1/8.1 MB 21.7 MB/s eta 0:00:00\n",
      "Downloading contourpy-1.3.1-cp312-cp312-win_amd64.whl (220 kB)\n",
      "Downloading cycler-0.12.1-py3-none-any.whl (8.3 kB)\n",
      "Downloading fonttools-4.56.0-cp312-cp312-win_amd64.whl (2.2 MB)\n",
      "   ---------------------------------------- 0.0/2.2 MB ? eta -:--:--\n",
      "   ---------------------------------------- 2.2/2.2 MB 24.7 MB/s eta 0:00:00\n",
      "Downloading kiwisolver-1.4.8-cp312-cp312-win_amd64.whl (71 kB)\n",
      "Downloading pillow-11.1.0-cp312-cp312-win_amd64.whl (2.6 MB)\n",
      "   ---------------------------------------- 0.0/2.6 MB ? eta -:--:--\n",
      "   ---------------------------------------- 2.6/2.6 MB 25.2 MB/s eta 0:00:00\n",
      "Downloading pyparsing-3.2.1-py3-none-any.whl (107 kB)\n",
      "Installing collected packages: pyparsing, pillow, kiwisolver, fonttools, cycler, contourpy, matplotlib\n",
      "Successfully installed contourpy-1.3.1 cycler-0.12.1 fonttools-4.56.0 kiwisolver-1.4.8 matplotlib-3.10.1 pillow-11.1.0 pyparsing-3.2.1\n",
      "Note: you may need to restart the kernel to use updated packages.\n"
     ]
    }
   ],
   "source": [
    "pip install matplotlib"
   ]
  }
 ],
 "metadata": {
  "kernelspec": {
   "display_name": "Python 3",
   "language": "python",
   "name": "python3"
  },
  "language_info": {
   "codemirror_mode": {
    "name": "ipython",
    "version": 3
   },
   "file_extension": ".py",
   "mimetype": "text/x-python",
   "name": "python",
   "nbconvert_exporter": "python",
   "pygments_lexer": "ipython3",
   "version": "3.12.5"
  }
 },
 "nbformat": 4,
 "nbformat_minor": 2
}
