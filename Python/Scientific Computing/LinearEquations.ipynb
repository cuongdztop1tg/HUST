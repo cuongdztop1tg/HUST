{
 "cells": [
  {
   "cell_type": "code",
   "execution_count": null,
   "metadata": {},
   "outputs": [
    {
     "name": "stdout",
     "output_type": "stream",
     "text": [
      "[[2.]\n",
      " [1.]]\n"
     ]
    }
   ],
   "source": [
    "#Solve Ax = b using inverse matrix A^-1\n",
    "import numpy as np\n",
    "n = int(input())\n",
    "A = []\n",
    "b = []\n",
    "x = []\n",
    "for i in range(n):\n",
    "    equation = list(map(int, input().split()))\n",
    "    A.append(equation)\n",
    "for i in range(n):\n",
    "    element = int(input())\n",
    "    b.append(element)\n",
    "A = np.array(A)\n",
    "b = np.array(b).reshape(n, 1)\n",
    "if np.linalg.det(A) != 0:\n",
    "    print(np.linalg.inv(A) @ b)"
   ]
  },
  {
   "cell_type": "code",
   "execution_count": 19,
   "metadata": {},
   "outputs": [
    {
     "name": "stdout",
     "output_type": "stream",
     "text": [
      "[1. 1.]\n"
     ]
    },
    {
     "name": "stderr",
     "output_type": "stream",
     "text": [
      "C:\\Users\\caocu\\AppData\\Local\\Temp\\ipykernel_11064\\3199684118.py:20: DeprecationWarning: Conversion of an array with ndim > 0 to a scalar is deprecated, and will error in future. Ensure you extract a single element from your array before performing this operation. (Deprecated NumPy 1.25.)\n",
      "  y[i] = Pb[i]\n"
     ]
    }
   ],
   "source": [
    "from scipy.linalg import lu\n",
    "n = int(input())\n",
    "A = []\n",
    "b = []\n",
    "for i in range(n):\n",
    "    equation = list(map(int, input().split()))\n",
    "    A.append(equation)\n",
    "for i in range(n):\n",
    "    element = int(input())\n",
    "    b.append(element)\n",
    "A = np.array(A)\n",
    "b = np.array(b).reshape(n, 1)\n",
    "\n",
    "P, L, U = lu(A)\n",
    "\n",
    "Pb = np.dot(P, b)\n",
    "# forward elimination\n",
    "y = np.zeros(n)\n",
    "for i in range(n):\n",
    "    y[i] = Pb[i]\n",
    "    for j in range(i):\n",
    "        y[i] -= L[i, j] * y[j]\n",
    "# backward substitution\n",
    "x = np.zeros(n)\n",
    "for i in range(n-1, -1, -1):\n",
    "    x[i] = y[i]\n",
    "    for j in range(i+1, n):\n",
    "        x[i] -= U[i, j] * x[j]\n",
    "    x[i] /= U[i, i]\n",
    "\n",
    "print(x)\n",
    "\n",
    "# print(P)\n",
    "# print(L)\n",
    "# print(U)"
   ]
  }
 ],
 "metadata": {
  "kernelspec": {
   "display_name": "Python 3",
   "language": "python",
   "name": "python3"
  },
  "language_info": {
   "codemirror_mode": {
    "name": "ipython",
    "version": 3
   },
   "file_extension": ".py",
   "mimetype": "text/x-python",
   "name": "python",
   "nbconvert_exporter": "python",
   "pygments_lexer": "ipython3",
   "version": "3.12.5"
  }
 },
 "nbformat": 4,
 "nbformat_minor": 2
}
