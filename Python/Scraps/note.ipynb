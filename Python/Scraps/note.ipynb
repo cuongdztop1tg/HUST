{
 "cells": [
  {
   "cell_type": "code",
   "execution_count": 7,
   "metadata": {},
   "outputs": [
    {
     "name": "stdout",
     "output_type": "stream",
     "text": [
      "An: 0\n",
      "Ly: 1\n",
      "Nam: 1\n",
      "Mai: 2\n",
      "Hoa: 0\n",
      "Linh: 2\n",
      "[2, 0, 0, 1, 1]\n",
      "[0, 0, 4]\n"
     ]
    },
    {
     "data": {
      "text/plain": [
       "[('Linh', 'chorio', 'medium', 'thick'),\n",
       " ('Nam', 'pinaapple', 'small', 'thick'),\n",
       " ('Mai', 'cheese', 'small', 'thick'),\n",
       " ('Ly', 'beef', 'medium', 'thin'),\n",
       " ('Mai', 'chorio', 'small', 'thin'),\n",
       " ('Linh', 'beef', 'medium', 'thin'),\n",
       " 'No medium left, choose a different size, please!',\n",
       " 'No small left, choose a different size, please!',\n",
       " 'No chorio left, choose a different topping, please!',\n",
       " 'No chorio left, choose a different topping, please!']"
      ]
     },
     "execution_count": 7,
     "metadata": {},
     "output_type": "execute_result"
    }
   ],
   "source": [
    "sentence = input()\n",
    "\n",
    "sentence = sentence.split()\n",
    "\n",
    "max = 0\n",
    "longest = \"\"\n",
    "for words in sentence:\n",
    "    count = 0\n",
    "    for letters in words:\n",
    "        count += 1\n",
    "    if max < count:\n",
    "        max = count\n",
    "        longest = words\n",
    "\n",
    "print(longest, max)"
   ]
  },
  {
   "cell_type": "code",
   "execution_count": null,
   "metadata": {},
   "outputs": [],
   "source": [
    "sentence = input()\n",
    "\n",
    "sentence = sentence.split()\n",
    "\n",
    "result = \"\"\n",
    "for words in sentence:\n",
    "    if words[0].isupper():\n",
    "        result += words[0]\n",
    "\n",
    "result"
   ]
  },
  {
   "cell_type": "code",
   "execution_count": null,
   "metadata": {},
   "outputs": [],
   "source": [
    "sentence = input()\n",
    "n = int(input())\n",
    "\n",
    "sentence = sentence.split()\n",
    "\n",
    "result = \"\"\n",
    "for words in sentence:\n",
    "    count = 0\n",
    "    for letters in words:\n",
    "        count += 1\n",
    "    if count >= n:\n",
    "        result += words + \"-\"\n",
    "\n",
    "result = result[:-1]\n",
    "\n",
    "result"
   ]
  },
  {
   "cell_type": "code",
   "execution_count": 1,
   "metadata": {},
   "outputs": [
    {
     "data": {
      "text/plain": [
       "'“What Is Artificial Intelligence (AI)?\\nArtificial intelligence (AI) technology allows computers and machines to simulate human intelligence and problem-solving tasks. The ideal characteristic of artificial intelligence is its ability to rationalize and take action to achieve a specific goal. AI research began in the 1950s and was used in the 1960s by the United States Department of Defense when it trained computers to mimic human reasoning.\\nSAS. \"Artificial Intelligence.\"\\n\\nA subset of artificial intelligence is machine learning (ML), a concept that computer programs can automatically learn from and adapt to new data without human assistance.\\n\\nKey Takeaways\\nArtificial intelligence technology allows computers and machines to simulate human intelligence and problem-solving capabilities.\\nAlgorithms are part of the structure of artificial intelligence, where simple algorithms are used in simple applications, while more complex ones help frame strong artificial intelligence.\\nArtificial intelligence technology is apparent in computers that play chess, self-driving cars, and banking systems to detect fraudulent activity.\\nClient-Financial Advisor_= Discussion Guide\\nShould I Invest in Artificial+ Intelligence?\\nDownload Guide\\nHow Artificial Intelligence {}(AI) Works\\nArtificial intelligence commonly brought to mind the implementation of robots. As technology evolved, previous benchmarks that define artificial intelligence\\\\ became- outdated. ~Technologies that enable Artificial Intelligence include:\\n\\nComputer vision     enables computers  to identify-- objects and [people] in pictures and photos.\\nNatural language processing (NLP) allows computers to understand human language.\\nGraphical processing units are computer chips that help computers form graphics and images through mathematical calculations. \\nThe Internet of Things is the network of physical devices, vehicles, and other objects embedded with sensors, software, and network connectivity, that collect and share data.\\nApplication programming allows two or more computer programs or components to communicate with each other.\\n\\nAlgorithms$ often play a part in the structure of artificial intelligence, where simple algorithms are used in simple applications, while more complex ones help frame strong artificial intelligence.\\n\\nTypes of Artificial Intelligence\\nNarrow AI: Also known as Weak AI, this system is designed to carry out one particular job. Weak AI systems include video games like personal assistants like Amazon\\'s Alexa and Apple\\'s Siri. Users ask the assistant a question, and it answers it for you.\\n\\nGeneral AI: This type includes strong artificial intelligence systems that carry on the tasks considered to be human-like. They tend to be more complex and complicated and can be found in applications like self-driving cars or hospital operating rooms.\\nSuper AI is a strictly theoretical type of AI and has not yet been realized. Super AI would think, reason, learn, and possess cognitive abilities that surpass those of human beings.\\nUsing Artificial    Intelligence Artificial intelligence can be applied to many sectors and industries, including the healthcare industry for suggesting drug dosages, ||identifying treatments,      and/ aiding in surgical procedures in the operating room.\\n^Other examples of machines with artificial intelligence include computers that play chess and self-driving cars&. AI has \\\\applications in the financial industry, where it detects and flags fraudulent banking activity. Applications for AI can help streamline and make trading easier.\\nIn 2022, AI entered the   mainstream [with] applications of Generative Pre-Training Transformer. The most popular applications are OpenAI\\'s DALL-E text-to-image tool and ChatGPT. According to a 2024 survey by Deloitte, 79% of respondents who are leaders in the AI industry, expect generative AI to transform their organizations by 2027.\\nReactive AI is a type of Narrow AI that uses algorithms to optimize outputs based on a set of inputs. Chess-playing AIs, for example, are reactive systems that optimize the best strategy to win the game. @Reactive AI tends to be fairly static, unable to learn or adapt to novel situations.\\n\\nMany are concerned #with how artificial intelligence may affect human employment. With many industries looking to automate certain jobs with intelligent machinery, there is a concern that employees would be pushed out of the workforce. Self-driving cars may remove the need for taxis and car-share programs, while manufacturers may easily replace human labor with machines, making people\\'s skills obsolete.\\n\\nIn healthcare settings, AI is used to assist in diagnostics. AI can identify small anomalies in scans to better triangulate diagnoses from a patient\\'s symptoms and vitals. AI can classify patients, maintain and track medical records, and deal with health insurance claims.\\nDiversify your portfolio using indices. Imagine the possibilities with simulated funds. Join the Vantage Elite Challenge and trade major indices such as S&P 500, NASDAQ, and DJI through CFDs using up to $200,000 in simulated funds. Earn up to 80% of your trading profits upon successfully becoming a Vantage Elite Trader.*”\\n'"
      ]
     },
     "execution_count": 1,
     "metadata": {},
     "output_type": "execute_result"
    }
   ],
   "source": [
    "path = 'input.txt'\n",
    "with open(path, encoding='utf8') as file:\n",
    "    data = file.read()\n",
    "\n",
    "data"
   ]
  }
 ],
 "metadata": {
  "kernelspec": {
   "display_name": "Python 3",
   "language": "python",
   "name": "python3"
  },
  "language_info": {
   "codemirror_mode": {
    "name": "ipython",
    "version": 3
   },
   "file_extension": ".py",
   "mimetype": "text/x-python",
   "name": "python",
   "nbconvert_exporter": "python",
   "pygments_lexer": "ipython3",
   "version": "3.12.5"
  }
 },
 "nbformat": 4,
 "nbformat_minor": 2
}
