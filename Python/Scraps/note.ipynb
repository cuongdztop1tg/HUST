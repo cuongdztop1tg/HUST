{
 "cells": [
  {
   "cell_type": "code",
   "execution_count": 7,
   "metadata": {},
   "outputs": [
    {
     "name": "stdout",
     "output_type": "stream",
     "text": [
      "An: 0\n",
      "Ly: 1\n",
      "Nam: 1\n",
      "Mai: 2\n",
      "Hoa: 0\n",
      "Linh: 2\n",
      "[2, 0, 0, 1, 1]\n",
      "[0, 0, 4]\n"
     ]
    },
    {
     "data": {
      "text/plain": [
       "[('Linh', 'chorio', 'medium', 'thick'),\n",
       " ('Nam', 'pinaapple', 'small', 'thick'),\n",
       " ('Mai', 'cheese', 'small', 'thick'),\n",
       " ('Ly', 'beef', 'medium', 'thin'),\n",
       " ('Mai', 'chorio', 'small', 'thin'),\n",
       " ('Linh', 'beef', 'medium', 'thin'),\n",
       " 'No medium left, choose a different size, please!',\n",
       " 'No small left, choose a different size, please!',\n",
       " 'No chorio left, choose a different topping, please!',\n",
       " 'No chorio left, choose a different topping, please!']"
      ]
     },
     "execution_count": 7,
     "metadata": {},
     "output_type": "execute_result"
    }
   ],
   "source": [
    "import random\n",
    "random.seed(20)\n",
    "\n",
    "names = [\"An\", \"Ly\", \"Nam\", \"Mai\", \"Hoa\", \"Linh\"]\n",
    "pizza_toppings = [\"chicken\", \"chorio\", \"beef\", \"cheese\", \"pinaapple\"]\n",
    "sizes = [\"small\", \"medium\", \"large\"]\n",
    "cake_bases = [\"thick\", \"thin\"]\n",
    "\n",
    "mark_toppings = [2, 2, 2, 2, 2]\n",
    "mark_sizes = [3, 3, 4]\n",
    "\n",
    "monday_orders = []\n",
    "\n",
    "for _ in range(10):\n",
    "    i = random.randrange(len(names))\n",
    "    j = random.randrange(len(pizza_toppings))\n",
    "    if mark_toppings[j] == 0:\n",
    "        monday_orders.append(f'No {pizza_toppings[j]} left, choose a different topping, please!')\n",
    "    else:\n",
    "        k = random.randrange(len(sizes))\n",
    "        if mark_sizes[k] == 0:\n",
    "            monday_orders.append(f'No {sizes[k]} left, choose a different size, please!')\n",
    "        else:\n",
    "            mark_toppings[j] -= 1\n",
    "            mark_sizes[k] -= 1\n",
    "            n = random.randrange(len(cake_bases))\n",
    "            monday_orders.append((names[i], pizza_toppings[j], sizes[k], cake_bases[n]))\n",
    "\n",
    "for name in names:\n",
    "    count = 0\n",
    "    for orders in monday_orders:\n",
    "        if orders[0] == name:\n",
    "            count += 1\n",
    "    print(f'{name}: {count}')\n",
    "\n",
    "print(mark_toppings)\n",
    "print(mark_sizes)\n",
    "\n",
    "monday_orders\n",
    "\n"
   ]
  }
 ],
 "metadata": {
  "kernelspec": {
   "display_name": "Python 3",
   "language": "python",
   "name": "python3"
  },
  "language_info": {
   "codemirror_mode": {
    "name": "ipython",
    "version": 3
   },
   "file_extension": ".py",
   "mimetype": "text/x-python",
   "name": "python",
   "nbconvert_exporter": "python",
   "pygments_lexer": "ipython3",
   "version": "3.12.5"
  }
 },
 "nbformat": 4,
 "nbformat_minor": 2
}
