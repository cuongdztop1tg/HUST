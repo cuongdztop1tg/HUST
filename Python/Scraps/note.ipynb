{
 "cells": [
  {
   "cell_type": "code",
   "execution_count": null,
   "metadata": {},
   "outputs": [],
   "source": [
    "sentence = input()\n",
    "\n",
    "sentence = sentence.split()\n",
    "\n",
    "max = 0\n",
    "longest = \"\"\n",
    "for words in sentence:\n",
    "    count = 0\n",
    "    for letters in words:\n",
    "        count += 1\n",
    "    if max < count:\n",
    "        max = count\n",
    "        longest = words\n",
    "\n",
    "print(longest, max)"
   ]
  },
  {
   "cell_type": "code",
   "execution_count": null,
   "metadata": {},
   "outputs": [],
   "source": [
    "sentence = input()\n",
    "\n",
    "sentence = sentence.split()\n",
    "\n",
    "result = \"\"\n",
    "for words in sentence:\n",
    "    if words[0].isupper():\n",
    "        result += words[0]\n",
    "\n",
    "result"
   ]
  },
  {
   "cell_type": "code",
   "execution_count": null,
   "metadata": {},
   "outputs": [],
   "source": [
    "sentence = input()\n",
    "n = int(input())\n",
    "\n",
    "sentence = sentence.split()\n",
    "\n",
    "result = \"\"\n",
    "for words in sentence:\n",
    "    count = 0\n",
    "    for letters in words:\n",
    "        count += 1\n",
    "    if count >= n:\n",
    "        result += words + \"-\"\n",
    "\n",
    "result = result[:-1]\n",
    "\n",
    "result"
   ]
  },
  {
   "cell_type": "code",
   "execution_count": null,
   "metadata": {},
   "outputs": [],
   "source": [
    "#a\n",
    "path = 'input.txt'\n",
    "with open(path, encoding='utf8') as file:\n",
    "    data = file.read()\n",
    "\n",
    "\n",
    "\n",
    "#b\n",
    "import nltk\n",
    "stop_words = set(nltk.corpus.stopwords.words('english'))\n",
    "stop_words.add('would')\n",
    "stop_words.add('could')\n",
    "\n",
    "with open('new_data.txt', 'r', encoding='utf-8') as f:\n",
    "    new_data = f.read().lower()\n",
    "\n",
    "special_letters = {'.', ',', ':', '-', '!', '*', '(', ')', '-', ';', 'I', 'V', \"'\", '’', '‘'}\n",
    "for letter in special_letters:\n",
    "    new_data = new_data.replace(letter, ' ')\n",
    "    words = new_data.split()\n",
    "    wordword = set(words) - stop_words\n"
   ]
  }
 ],
 "metadata": {
  "kernelspec": {
   "display_name": "Python 3",
   "language": "python",
   "name": "python3"
  },
  "language_info": {
   "name": "python",
   "version": "3.12.5"
  }
 },
 "nbformat": 4,
 "nbformat_minor": 2
}
